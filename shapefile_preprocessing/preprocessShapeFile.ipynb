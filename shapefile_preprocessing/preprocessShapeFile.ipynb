{
 "cells": [
  {
   "cell_type": "code",
   "execution_count": 1,
   "metadata": {},
   "outputs": [],
   "source": [
    "import geopandas\n",
    "import pandas as pd"
   ]
  },
  {
   "cell_type": "code",
   "execution_count": null,
   "metadata": {},
   "outputs": [],
   "source": [
    "'''\n",
    "    General procedure: Read in shapefiles from different sources -> group them into the five categories: \"urban areas\", \"mountains\", \"open areas\", \"waters\" and \"woods\"\n",
    "    -> envelope the polygons into rectangular areas -> merge neighboring areas with the same category together -> write the result to a shapefile\n",
    "'''"
   ]
  },
  {
   "cell_type": "code",
   "execution_count": 2,
   "metadata": {},
   "outputs": [],
   "source": [
    "def preprocessUrbanAreas():\n",
    "    urbanAreas = \"zip://C:/Users/Oliver/Documents/Projekte/bkg_shape.zip/sie01_f.shp\"\n",
    "\n",
    "    urbanAreasDf = geopandas.read_file(urbanAreas)\n",
    "    urbanAreasDf.loc[urbanAreasDf[\"OBJART_TXT\"] == \"AX_Ortslage\", \"OBJART_TXT\"] = \"urbanAreas\"\n",
    "\n",
    "    return urbanAreasDf"
   ]
  },
  {
   "cell_type": "code",
   "execution_count": 3,
   "metadata": {},
   "outputs": [],
   "source": [
    "def preprocessMountains():\n",
    "    mountains = \"zip://C:/Users/Oliver/Documents/Projekte/bkg_shape.zip/veg03_f.shp\"\n",
    "\n",
    "    mountainsDf = geopandas.read_file(mountains)\n",
    "    mountainsDf.loc[mountainsDf[\"OBJART_TXT\"] == \"AX_UnlandVegetationsloseFlaeche\", \"OBJART_TXT\"] = \"mountains\"\n",
    "    \n",
    "    mountainsDf.drop(mountainsDf[mountainsDf.OBJART_TXT == \"AX_Gehoelz\"].index, inplace=True)\n",
    "    mountainsDf.drop(mountainsDf[mountainsDf.OBJART_TXT == \"AX_Heide\"].index, inplace=True)\n",
    "    mountainsDf.drop(mountainsDf[mountainsDf.OBJART_TXT == \"AX_Moor\"].index, inplace=True)\n",
    "    mountainsDf.drop(mountainsDf[mountainsDf.OBJART_TXT == \"AX_Sumpf\"].index, inplace=True)\n",
    "\n",
    "    return mountainsDf"
   ]
  },
  {
   "cell_type": "code",
   "execution_count": 4,
   "metadata": {},
   "outputs": [],
   "source": [
    "def preprocessOpenAreas():\n",
    "    openAreas = \"zip://C:/Users/Oliver/Documents/Projekte/bkg_shape.zip/veg01_f.shp\"\n",
    "\n",
    "    openAreasDf = geopandas.read_file(openAreas)\n",
    "    openAreasDf.loc[openAreasDf[\"OBJART_TXT\"] == \"AX_Landwirtschaft\", \"OBJART_TXT\"] = \"openAreas\"\n",
    "\n",
    "    return openAreasDf"
   ]
  },
  {
   "cell_type": "code",
   "execution_count": 5,
   "metadata": {},
   "outputs": [],
   "source": [
    "def preprocessWoods():\n",
    "    woods1 = \"zip://C:/Users/Oliver/Documents/Projekte/bkg_shape.zip/veg02_f.shp\"\n",
    "    woods2 = \"zip://C:/Users/Oliver/Documents/Projekte/bkg_shape.zip/veg03_f.shp\"\n",
    "\n",
    "    woodsDf1 = geopandas.read_file(woods1)\n",
    "    woodsDf2 = geopandas.read_file(woods2)\n",
    "\n",
    "    woodsDf1.loc[woodsDf1[\"OBJART_TXT\"] == \"AX_Wald\", \"OBJART_TXT\"] = \"woods\"\n",
    "\n",
    "    woodsDf2.loc[woodsDf2[\"OBJART_TXT\"] == \"AX_Gehoelz\", \"OBJART_TXT\"] = \"woods\"\n",
    "    woodsDf2.loc[woodsDf2[\"OBJART_TXT\"] == \"AX_Heide\", \"OBJART_TXT\"] = \"woods\"\n",
    "    woodsDf2.loc[woodsDf2[\"OBJART_TXT\"] == \"AX_Moor\", \"OBJART_TXT\"] = \"woods\"\n",
    "    woodsDf2.loc[woodsDf2[\"OBJART_TXT\"] == \"AX_Sumpf\", \"OBJART_TXT\"] = \"woods\"\n",
    "    # this will be processed as mountains\n",
    "    woodsDf2.drop(woodsDf2[woodsDf2.OBJART_TXT == \"AX_UnlandVegetationsloseFlaeche\"].index, inplace=True)\n",
    "\n",
    "    return pd.concat([woodsDf1,woodsDf2])\n"
   ]
  },
  {
   "cell_type": "code",
   "execution_count": 6,
   "metadata": {},
   "outputs": [],
   "source": [
    "def preprocessWaters():\n",
    "    # waters are defined in two separate files\n",
    "    waters1 = \"zip://C:/Users/Oliver/Documents/Projekte/bkg_shape.zip/gew01_f.shp\"\n",
    "    waters2 = \"zip://C:/Users/Oliver/Documents/Projekte/bkg_shape.zip/gew02_f.shp\"\n",
    "\n",
    "    # all instances of water are treated equally for our purposes -> set same column name\n",
    "    watersDf1 = geopandas.read_file(waters1)\n",
    "    # drop \"Fliessgewaesser\" i.e. rivers, because this would crash the enveloping of areas\n",
    "    watersDf1.drop(watersDf1[watersDf1.OBJART_TXT == \"AX_Fliessgewaesser\"].index, inplace=True)\n",
    "    watersDf1.loc[watersDf1[\"OBJART_TXT\"] == \"AX_Hafenbecken\", \"OBJART_TXT\"] = \"waters\"\n",
    "    watersDf1.loc[watersDf1[\"OBJART_TXT\"] == \"AX_StehendesGewaesser\", \"OBJART_TXT\"] = \"waters\"\n",
    "\n",
    "    watersDf2 = geopandas.read_file(waters2)\n",
    "    watersDf2.loc[watersDf2[\"OBJART_TXT\"] == \"AX_Gewaessermerkmal\", \"OBJART_TXT\"] = \"waters\"\n",
    "    watersDf2.loc[watersDf2[\"OBJART_TXT\"] == \"AX_Polder\", \"OBJART_TXT\"] = \"waters\"\n",
    "\n",
    "    # concat dataframes and return\n",
    "    return pd.concat([watersDf1,watersDf2])\n"
   ]
  },
  {
   "cell_type": "code",
   "execution_count": 7,
   "metadata": {},
   "outputs": [],
   "source": [
    "# concat all subareas to one dataframe\n",
    "\n",
    "finalDf = preprocessUrbanAreas()\n",
    "finalDf = pd.concat([finalDf,preprocessMountains()])\n",
    "finalDf = pd.concat([finalDf,preprocessOpenAreas()])\n",
    "finalDf = pd.concat([finalDf,preprocessWaters()])\n",
    "finalDf = pd.concat([finalDf,preprocessWoods()])"
   ]
  },
  {
   "cell_type": "code",
   "execution_count": 8,
   "metadata": {},
   "outputs": [
    {
     "data": {
      "text/plain": [
       "array(['urbanAreas', 'mountains', 'openAreas', 'waters', 'woods'],\n",
       "      dtype=object)"
      ]
     },
     "execution_count": 8,
     "metadata": {},
     "output_type": "execute_result"
    }
   ],
   "source": [
    "finalDf['OBJART_TXT'].unique()"
   ]
  },
  {
   "cell_type": "code",
   "execution_count": 9,
   "metadata": {},
   "outputs": [],
   "source": [
    "# envelope areas in rectangular surrounding areas\n",
    "finalDf['geometry'] = finalDf['geometry'].apply(lambda x: x.envelope)"
   ]
  },
  {
   "cell_type": "code",
   "execution_count": 11,
   "metadata": {},
   "outputs": [
    {
     "name": "stderr",
     "output_type": "stream",
     "text": [
      "C:\\Users\\Oliver\\AppData\\Local\\Temp\\ipykernel_32448\\2001468565.py:2: FutureWarning: Currently, index_parts defaults to True, but in the future, it will default to False to be consistent with Pandas. Use `index_parts=True` to keep the current behavior and True/False to silence the warning.\n",
      "  finalDf = finalDf.dissolve(by='OBJART_TXT').explode()\n"
     ]
    }
   ],
   "source": [
    "# merge areas by same OBJART_TXT\n",
    "finalDf = finalDf.dissolve(by='OBJART_TXT').explode()"
   ]
  },
  {
   "cell_type": "code",
   "execution_count": 10,
   "metadata": {},
   "outputs": [],
   "source": [
    "# write merged areas to shapefile\n",
    "finalDf.to_file('combined_polygons.shp')"
   ]
  }
 ],
 "metadata": {
  "kernelspec": {
   "display_name": "Python 3",
   "language": "python",
   "name": "python3"
  },
  "language_info": {
   "codemirror_mode": {
    "name": "ipython",
    "version": 3
   },
   "file_extension": ".py",
   "mimetype": "text/x-python",
   "name": "python",
   "nbconvert_exporter": "python",
   "pygments_lexer": "ipython3",
   "version": "3.10.11"
  },
  "orig_nbformat": 4
 },
 "nbformat": 4,
 "nbformat_minor": 2
}
